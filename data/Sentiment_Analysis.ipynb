{
 "metadata": {
  "name": "",
  "signature": "sha256:6e4d3d6f472756986f37f9f4164ad145347f9a1fb190cf18e701277f45453023"
 },
 "nbformat": 3,
 "nbformat_minor": 0,
 "worksheets": [
  {
   "cells": [
    {
     "cell_type": "code",
     "collapsed": false,
     "input": [
      "import pandas as pd\n",
      "import numpy as np\n",
      "from pandas import Series\n",
      "import string\n",
      "import json\n",
      "from pandas.io.json import json_normalize\n",
      "\n",
      "\n",
      "\n",
      "\n",
      "#First text file\n",
      "twitter = []\n",
      "with open('reactions.txt') as f_check:\n",
      "    for line in f_check:\n",
      "        twitter.append(json.loads(line))\n",
      "\n",
      "df_twitter = json_normalize(twitter)\n",
      "pd.options.display.max_columns = 200\n",
      "\n",
      "#df_twitter.to_csv('tweets1.csv', sep=',',encoding='utf-8')\n",
      "\n",
      "\n",
      "#Second text file\n",
      "twitter2 = []\n",
      "with open('reaction1.txt') as f_check:\n",
      "    for line in f_check:\n",
      "        twitter2.append(json.loads(line))\n",
      "\n",
      "df_twitter2 = json_normalize(twitter2)\n",
      "\n",
      "\n",
      "#third text file\n",
      "\n",
      "twitter3 = []\n",
      "with open('reaction2.txt') as f_check:\n",
      "    for line in f_check:\n",
      "        twitter3.append(json.loads(line))\n",
      "\n",
      "df_twitter3 = json_normalize(twitter3)\n",
      "\n",
      "\n",
      "#fourth text file\n",
      "twitter4 = []\n",
      "with open('team.txt') as f_check:\n",
      "    for line in f_check:\n",
      "        twitter4.append(json.loads(line))\n",
      "\n",
      "df_twitter4 = json_normalize(twitter4)\n",
      "\n",
      "\n",
      "\n",
      "#Concatanate all the files\n",
      "df_twitter = pd.concat([df_twitter, df_twitter2], ignore_index=False)\n",
      "df_twitter = pd.concat([df_twitter, df_twitter3], ignore_index=False)\n",
      "df_twitter = pd.concat([df_twitter, df_twitter4], ignore_index=False)\n",
      "df_twitter = pd.DataFrame(df_twitter)"
     ],
     "language": "python",
     "metadata": {},
     "outputs": [],
     "prompt_number": 1
    },
    {
     "cell_type": "code",
     "collapsed": false,
     "input": [
      "pd.options.display.max_seq_items = None\n",
      "text = df_twitter['text']\n",
      "text = pd.DataFrame(text)\n",
      "text = text['text'].str.lower()\n",
      "text = pd.DataFrame(text)"
     ],
     "language": "python",
     "metadata": {},
     "outputs": [],
     "prompt_number": 2
    },
    {
     "cell_type": "code",
     "collapsed": false,
     "input": [
      "#for i in range(len(text)):\n",
      "#    text[i] = filter(lambda x: x in string.printable, text[i])"
     ],
     "language": "python",
     "metadata": {},
     "outputs": [],
     "prompt_number": 3
    },
    {
     "cell_type": "code",
     "collapsed": false,
     "input": [
      "from textblob import TextBlob\n",
      "import numpy as np\n",
      "from textblob import TextBlob\n",
      "from textblob.sentiments import NaiveBayesAnalyzer"
     ],
     "language": "python",
     "metadata": {},
     "outputs": [],
     "prompt_number": 4
    },
    {
     "cell_type": "heading",
     "level": 3,
     "metadata": {},
     "source": [
      "Pete Carroll"
     ]
    },
    {
     "cell_type": "code",
     "collapsed": false,
     "input": [
      "pete=text[text['text'].str.contains(\"pete carroll\")]\n",
      "pete = pete.drop_duplicates()\n",
      "pete = pete.to_string()\n",
      "sent = TextBlob(pete, analyzer=NaiveBayesAnalyzer())\n",
      "classification = sent.sentiment.classification\n",
      "print \"Classification:\", classification\n",
      "pete = TextBlob(pete)\n",
      "print pete.sentiment"
     ],
     "language": "python",
     "metadata": {},
     "outputs": [
      {
       "output_type": "stream",
       "stream": "stdout",
       "text": [
        "Classification: pos\n",
        "Sentiment(polarity=0.025971500597616767, subjectivity=0.5613175284280579)"
       ]
      },
      {
       "output_type": "stream",
       "stream": "stdout",
       "text": [
        "\n"
       ]
      }
     ],
     "prompt_number": 5
    },
    {
     "cell_type": "heading",
     "level": 3,
     "metadata": {},
     "source": [
      "Bill Belichick"
     ]
    },
    {
     "cell_type": "code",
     "collapsed": false,
     "input": [
      "bill=text[text['text'].str.contains(\"bill belichick\")]\n",
      "bill = bill.drop_duplicates()\n",
      "bill = bill.to_string()\n",
      "sent = TextBlob(bill, analyzer=NaiveBayesAnalyzer())\n",
      "classification = sent.sentiment.classification\n",
      "print \"Classification:\", classification\n",
      "bill = TextBlob(bill)\n",
      "print bill.sentiment"
     ],
     "language": "python",
     "metadata": {},
     "outputs": [
      {
       "output_type": "stream",
       "stream": "stdout",
       "text": [
        "Classification: pos\n",
        "Sentiment(polarity=0.16832094827007688, subjectivity=0.6024719055169653)"
       ]
      },
      {
       "output_type": "stream",
       "stream": "stdout",
       "text": [
        "\n"
       ]
      }
     ],
     "prompt_number": 6
    },
    {
     "cell_type": "heading",
     "level": 3,
     "metadata": {},
     "source": [
      "Marshawn Lynch"
     ]
    },
    {
     "cell_type": "code",
     "collapsed": false,
     "input": [
      "marshawn_l=text[text['text'].str.contains(\"marshawn lynch\")]\n",
      "beast=text[text['text'].str.contains(\"beastmode\")]\n",
      "marshawn = pd.concat([marshawn_l, beast], ignore_index=False)\n",
      "marsh = marshawn.drop_duplicates()\n",
      "marsh = marshawn.to_string()\n",
      "sent = TextBlob(marsh, analyzer=NaiveBayesAnalyzer())\n",
      "classification = sent.sentiment.classification\n",
      "print \"Classification:\", classification\n",
      "marsh = TextBlob(marsh)\n",
      "print marsh.sentiment"
     ],
     "language": "python",
     "metadata": {},
     "outputs": [
      {
       "output_type": "stream",
       "stream": "stdout",
       "text": [
        "Classification: pos\n",
        "Sentiment(polarity=0.03295262992711365, subjectivity=0.5558457515550487)"
       ]
      },
      {
       "output_type": "stream",
       "stream": "stdout",
       "text": [
        "\n"
       ]
      }
     ],
     "prompt_number": 7
    },
    {
     "cell_type": "heading",
     "level": 3,
     "metadata": {},
     "source": [
      "Julian Edelman"
     ]
    },
    {
     "cell_type": "code",
     "collapsed": false,
     "input": [
      "julian=text[text['text'].str.contains(\"julian edelman\")]\n",
      "julian = julian.drop_duplicates()\n",
      "julian = julian.to_string()\n",
      "sent = TextBlob(julian, analyzer=NaiveBayesAnalyzer())\n",
      "classification = sent.sentiment.classification\n",
      "print \"Classification:\", classification\n",
      "julian = TextBlob(julian)\n",
      "print julian.sentiment"
     ],
     "language": "python",
     "metadata": {},
     "outputs": [
      {
       "output_type": "stream",
       "stream": "stdout",
       "text": [
        "Classification: pos\n",
        "Sentiment(polarity=0.19684706171214955, subjectivity=0.5469679965164551)"
       ]
      },
      {
       "output_type": "stream",
       "stream": "stdout",
       "text": [
        "\n"
       ]
      }
     ],
     "prompt_number": 8
    },
    {
     "cell_type": "heading",
     "level": 3,
     "metadata": {},
     "source": [
      "Bruce Irvin"
     ]
    },
    {
     "cell_type": "code",
     "collapsed": false,
     "input": [
      "bruce=text[text['text'].str.contains(\"bruce irvin\")]\n",
      "bruce = bruce.drop_duplicates()\n",
      "bruce = bruce.to_string()\n",
      "sent = TextBlob(bruce, analyzer=NaiveBayesAnalyzer())\n",
      "classification = sent.sentiment.classification\n",
      "print \"Classification:\", classification\n",
      "bruce = TextBlob(bruce)\n",
      "print bruce.sentiment"
     ],
     "language": "python",
     "metadata": {},
     "outputs": [
      {
       "output_type": "stream",
       "stream": "stdout",
       "text": [
        "Classification: pos\n",
        "Sentiment(polarity=0.09626687796330655, subjectivity=0.48885539064110506)\n"
       ]
      }
     ],
     "prompt_number": 9
    },
    {
     "cell_type": "heading",
     "level": 3,
     "metadata": {},
     "source": [
      "Tom Brady"
     ]
    },
    {
     "cell_type": "code",
     "collapsed": false,
     "input": [
      "tom=text[text['text'].str.contains(\"tom brady\")]\n",
      "tom = tom.drop_duplicates()\n",
      "tom = tom.to_string()\n",
      "sent = TextBlob(tom, analyzer=NaiveBayesAnalyzer())\n",
      "classification = sent.sentiment.classification\n",
      "print \"Classification:\", classification\n",
      "tom = TextBlob(tom)\n",
      "print tom.sentiment"
     ],
     "language": "python",
     "metadata": {},
     "outputs": [
      {
       "output_type": "stream",
       "stream": "stdout",
       "text": [
        "Classification: pos\n",
        "Sentiment(polarity=0.2303756831756704, subjectivity=0.5243602187898649)"
       ]
      },
      {
       "output_type": "stream",
       "stream": "stdout",
       "text": [
        "\n"
       ]
      }
     ],
     "prompt_number": 10
    },
    {
     "cell_type": "heading",
     "level": 3,
     "metadata": {},
     "source": [
      "Russel Wilson"
     ]
    },
    {
     "cell_type": "code",
     "collapsed": false,
     "input": [
      "wilson=text[text['text'].str.contains(\"russel wilson\")]\n",
      "wilson = wilson.drop_duplicates()\n",
      "wilson = wilson.to_string()\n",
      "sent = TextBlob(wilson, analyzer=NaiveBayesAnalyzer())\n",
      "classification = sent.sentiment.classification\n",
      "print \"Classification:\", classification\n",
      "wilson = TextBlob(wilson)\n",
      "print wilson.sentiment"
     ],
     "language": "python",
     "metadata": {},
     "outputs": [
      {
       "output_type": "stream",
       "stream": "stdout",
       "text": [
        "Classification: pos\n",
        "Sentiment(polarity=0.10415972222222221, subjectivity=0.5084104308390023)\n"
       ]
      }
     ],
     "prompt_number": 11
    },
    {
     "cell_type": "heading",
     "level": 3,
     "metadata": {},
     "source": [
      "Rob Gronkowski"
     ]
    },
    {
     "cell_type": "code",
     "collapsed": false,
     "input": [
      "rob=text[text['text'].str.contains(\"rob gronkowski\")]\n",
      "gronk=text[text['text'].str.contains(\"gronkowski\")]\n",
      "gronk = pd.concat([rob, gronk], ignore_index=False)\n",
      "gronk = gronk.drop_duplicates()\n",
      "gronk = gronk.to_string()\n",
      "sent = TextBlob(gronk, analyzer=NaiveBayesAnalyzer())\n",
      "classification = sent.sentiment.classification\n",
      "print \"Classification:\", classification\n",
      "gronk = TextBlob(gronk)\n",
      "print gronk.sentiment"
     ],
     "language": "python",
     "metadata": {},
     "outputs": [
      {
       "output_type": "stream",
       "stream": "stdout",
       "text": [
        "Classification: pos\n",
        "Sentiment(polarity=0.15472969856847707, subjectivity=0.5506441580305219)"
       ]
      },
      {
       "output_type": "stream",
       "stream": "stdout",
       "text": [
        "\n"
       ]
      }
     ],
     "prompt_number": 12
    },
    {
     "cell_type": "heading",
     "level": 3,
     "metadata": {},
     "source": [
      "Malcolm Butler"
     ]
    },
    {
     "cell_type": "code",
     "collapsed": false,
     "input": [
      "butler=text[text['text'].str.contains(\"malcolm butler\")]\n",
      "butler = butler.drop_duplicates()\n",
      "butler = butler.to_string()\n",
      "sent = TextBlob(butler, analyzer=NaiveBayesAnalyzer())\n",
      "classification = sent.sentiment.classification\n",
      "print \"Classification:\", classification\n",
      "butler = TextBlob(butler)\n",
      "print butler.sentiment"
     ],
     "language": "python",
     "metadata": {},
     "outputs": [
      {
       "output_type": "stream",
       "stream": "stdout",
       "text": [
        "Classification: pos\n",
        "Sentiment(polarity=0.24041142488333656, subjectivity=0.552679555442369)"
       ]
      },
      {
       "output_type": "stream",
       "stream": "stdout",
       "text": [
        "\n"
       ]
      }
     ],
     "prompt_number": 13
    },
    {
     "cell_type": "heading",
     "level": 3,
     "metadata": {},
     "source": [
      "Richard Sherman"
     ]
    },
    {
     "cell_type": "code",
     "collapsed": false,
     "input": [
      "sherman=text[text['text'].str.contains(\"richard sherman\")]\n",
      "sherman = sherman.drop_duplicates()\n",
      "sherman = sherman.to_string()\n",
      "sent = TextBlob(sherman, analyzer=NaiveBayesAnalyzer())\n",
      "classification = sent.sentiment.classification\n",
      "print \"Classification:\", classification\n",
      "sherman = TextBlob(sherman)\n",
      "print sherman.sentiment"
     ],
     "language": "python",
     "metadata": {},
     "outputs": [
      {
       "output_type": "stream",
       "stream": "stdout",
       "text": [
        "Classification: pos\n",
        "Sentiment(polarity=0.18859209194703005, subjectivity=0.5563821133744986)"
       ]
      },
      {
       "output_type": "stream",
       "stream": "stdout",
       "text": [
        "\n"
       ]
      }
     ],
     "prompt_number": 14
    },
    {
     "cell_type": "heading",
     "level": 3,
     "metadata": {},
     "source": [
      "Chris Matthews"
     ]
    },
    {
     "cell_type": "code",
     "collapsed": false,
     "input": [
      "chris =text[text['text'].str.contains(\"chris matthews\")]\n",
      "chris = chris.drop_duplicates()\n",
      "chris = chris.to_string()\n",
      "sent = TextBlob(chris, analyzer=NaiveBayesAnalyzer())\n",
      "classification = sent.sentiment.classification\n",
      "print \"Classification:\", classification\n",
      "chris = TextBlob(chris)\n",
      "print chris.sentiment"
     ],
     "language": "python",
     "metadata": {},
     "outputs": [
      {
       "output_type": "stream",
       "stream": "stdout",
       "text": [
        "Classification: pos\n",
        "Sentiment(polarity=0.17053970736021676, subjectivity=0.48656401954721273)\n"
       ]
      }
     ],
     "prompt_number": 15
    },
    {
     "cell_type": "heading",
     "level": 3,
     "metadata": {},
     "source": [
      "Danny Amendola"
     ]
    },
    {
     "cell_type": "code",
     "collapsed": false,
     "input": [
      "danny =text[text['text'].str.contains(\"danny amendola\")]\n",
      "danny = danny.drop_duplicates()\n",
      "danny = danny.to_string()\n",
      "sent = TextBlob(danny, analyzer=NaiveBayesAnalyzer())\n",
      "classification = sent.sentiment.classification\n",
      "print \"Classification:\", classification\n",
      "danny = TextBlob(danny)\n",
      "print danny.sentiment"
     ],
     "language": "python",
     "metadata": {},
     "outputs": [
      {
       "output_type": "stream",
       "stream": "stdout",
       "text": [
        "Classification: pos\n",
        "Sentiment(polarity=0.31437499999999996, subjectivity=0.5058333333333332)\n"
       ]
      }
     ],
     "prompt_number": 16
    },
    {
     "cell_type": "heading",
     "level": 3,
     "metadata": {},
     "source": [
      "Jermaine Kearse"
     ]
    },
    {
     "cell_type": "code",
     "collapsed": false,
     "input": [
      "kearse = text[text['text'].str.contains(\"jermaine kearse\")]\n",
      "kearse = kearse.drop_duplicates()\n",
      "kearse = kearse.to_string()\n",
      "sent = TextBlob(kearse, analyzer=NaiveBayesAnalyzer())\n",
      "classification = sent.sentiment.classification\n",
      "print \"Classification:\", classification\n",
      "kearse = TextBlob(kearse)\n",
      "print kearse.sentiment"
     ],
     "language": "python",
     "metadata": {},
     "outputs": [
      {
       "output_type": "stream",
       "stream": "stdout",
       "text": [
        "Classification: pos\n",
        "Sentiment(polarity=-0.051960784313725486, subjectivity=0.7676470588235295)\n"
       ]
      }
     ],
     "prompt_number": 17
    },
    {
     "cell_type": "heading",
     "level": 3,
     "metadata": {},
     "source": [
      "LeGarrette Blount"
     ]
    },
    {
     "cell_type": "code",
     "collapsed": false,
     "input": [
      "blount=text[text['text'].str.contains(\"legarrette blount\")]\n",
      "blount = blount.drop_duplicates()\n",
      "blount = blount.to_string()\n",
      "sent = TextBlob(blount, analyzer=NaiveBayesAnalyzer())\n",
      "classification = sent.sentiment.classification\n",
      "print \"Classification:\", classification\n",
      "blount = TextBlob(blount)\n",
      "print blount.sentiment"
     ],
     "language": "python",
     "metadata": {},
     "outputs": [
      {
       "output_type": "stream",
       "stream": "stdout",
       "text": [
        "Classification: pos\n",
        "Sentiment(polarity=0.11604938271604937, subjectivity=0.528395061728395)\n"
       ]
      }
     ],
     "prompt_number": 18
    },
    {
     "cell_type": "heading",
     "level": 3,
     "metadata": {},
     "source": [
      "Earl Thomas"
     ]
    },
    {
     "cell_type": "code",
     "collapsed": false,
     "input": [
      "earl = text[text['text'].str.contains(\"earl thomas\")]\n",
      "earl = earl.drop_duplicates()\n",
      "earl = earl.to_string()\n",
      "sent = TextBlob(earl, analyzer=NaiveBayesAnalyzer())\n",
      "classification = sent.sentiment.classification\n",
      "print \"Classification:\", classification\n",
      "earl = TextBlob(earl)\n",
      "print earl.sentiment"
     ],
     "language": "python",
     "metadata": {},
     "outputs": [
      {
       "output_type": "stream",
       "stream": "stdout",
       "text": [
        "Classification: pos\n",
        "Sentiment(polarity=0.45933333333333337, subjectivity=0.5906666666666667)\n"
       ]
      }
     ],
     "prompt_number": 19
    },
    {
     "cell_type": "heading",
     "level": 3,
     "metadata": {},
     "source": [
      "Brandon Browner"
     ]
    },
    {
     "cell_type": "code",
     "collapsed": false,
     "input": [
      "brandon = text[text['text'].str.contains(\"brandon browner\")]\n",
      "brandon = brandon.drop_duplicates()\n",
      "brandon = brandon.to_string()\n",
      "sent = TextBlob(brandon, analyzer=NaiveBayesAnalyzer())\n",
      "classification = sent.sentiment.classification\n",
      "print \"Classification:\", classification\n",
      "brandon = TextBlob(brandon)\n",
      "print brandon.sentiment"
     ],
     "language": "python",
     "metadata": {},
     "outputs": [
      {
       "output_type": "stream",
       "stream": "stdout",
       "text": [
        "Classification: neg\n",
        "Sentiment(polarity=0.17981019876181162, subjectivity=0.47341153470185726)\n"
       ]
      }
     ],
     "prompt_number": 20
    },
    {
     "cell_type": "heading",
     "level": 3,
     "metadata": {},
     "source": [
      "Seattle Seahawks"
     ]
    },
    {
     "cell_type": "code",
     "collapsed": false,
     "input": [
      "seattle = text[text['text'].str.contains(\"seattle\")]\n",
      "seahawks = text[text['text'].str.contains(\"seahawks\")]\n",
      "seahawks = pd.concat([seattle, seahawks], ignore_index=False)\n",
      "seahawks = seahawks.drop_duplicates()\n",
      "seahawks = seahawks.to_string()\n",
      "sent = TextBlob(seahawks, analyzer=NaiveBayesAnalyzer())\n",
      "classification = sent.sentiment.classification\n",
      "print \"Classification:\", classification\n",
      "seahawks = TextBlob(seahawks)\n",
      "print seahawks.sentiment"
     ],
     "language": "python",
     "metadata": {},
     "outputs": [
      {
       "output_type": "stream",
       "stream": "stdout",
       "text": [
        "Classification: pos\n",
        "Sentiment(polarity=0.16926995291225325, subjectivity=0.5709032893387611)"
       ]
      },
      {
       "output_type": "stream",
       "stream": "stdout",
       "text": [
        "\n"
       ]
      }
     ],
     "prompt_number": 21
    },
    {
     "cell_type": "heading",
     "level": 3,
     "metadata": {},
     "source": [
      "New England Patriots"
     ]
    },
    {
     "cell_type": "code",
     "collapsed": false,
     "input": [
      "pats = text[text['text'].str.contains(\"patriots\")]\n",
      "ne = text[text['text'].str.contains(\"new england\")]\n",
      "pats = pd.concat([pats, ne], ignore_index=False)\n",
      "pats = pats.drop_duplicates()\n",
      "pats = pats.to_string()\n",
      "sent = TextBlob(pats, analyzer=NaiveBayesAnalyzer())\n",
      "classification = sent.sentiment.classification\n",
      "print \"Classification:\", classification\n",
      "pats = TextBlob(pats)\n",
      "print pats.sentiment"
     ],
     "language": "python",
     "metadata": {},
     "outputs": [
      {
       "output_type": "stream",
       "stream": "stdout",
       "text": [
        "Classification: pos\n",
        "Sentiment(polarity=0.2395312561069973, subjectivity=0.5503251925638329)"
       ]
      },
      {
       "output_type": "stream",
       "stream": "stdout",
       "text": [
        "\n"
       ]
      }
     ],
     "prompt_number": 26
    },
    {
     "cell_type": "code",
     "collapsed": false,
     "input": [],
     "language": "python",
     "metadata": {},
     "outputs": []
    }
   ],
   "metadata": {}
  }
 ]
}